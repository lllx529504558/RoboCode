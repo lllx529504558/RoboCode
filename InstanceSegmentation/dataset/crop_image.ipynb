{
 "cells": [
  {
   "cell_type": "markdown",
   "metadata": {},
   "source": [
    "## 1 切割出目标位置"
   ]
  },
  {
   "cell_type": "code",
   "execution_count": 1,
   "metadata": {},
   "outputs": [],
   "source": [
    "import cv2\n",
    "import numpy as np\n",
    "import os\n",
    "\n",
    "def get_centered_crop_box(x_min, x_max, y_min, y_max, crop_width, crop_height, max_width, max_height):\n",
    "    # 计算目标物体的中心点\n",
    "    center_x = (x_min + x_max) // 2\n",
    "    center_y = (y_min + y_max) // 2\n",
    "\n",
    "    # 计算裁剪区域\n",
    "    crop_x_min = max(center_x - crop_width // 2, 0)\n",
    "    crop_x_max = crop_x_min + crop_width\n",
    "    crop_y_min = max(center_y - crop_height // 2, 0)\n",
    "    crop_y_max = crop_y_min + crop_height\n",
    "\n",
    "    # 确保裁剪区域不超出原始图像边界\n",
    "    if crop_x_max > max_width:\n",
    "        crop_x_max = max_width\n",
    "        crop_x_min = crop_x_max - crop_width\n",
    "    if crop_y_max > max_height:\n",
    "        crop_y_max = max_height\n",
    "        crop_y_min = crop_y_max - crop_height\n",
    "\n",
    "    return crop_x_min, crop_x_max, crop_y_min, crop_y_max\n",
    "\n",
    "# 设置原始图像和mask图像的文件夹路径\n",
    "original_images_path = 'image'\n",
    "mask_images_path = 'mask'\n",
    "# 设置裁剪后的图像保存的路径\n",
    "cropped_images_path = 'cropped_image'\n",
    "cropped_masks_path = 'cropped_mask'\n",
    "if not os.path.exists(cropped_images_path):\n",
    "    os.makedirs(cropped_images_path)\n",
    "if not os.path.exists(cropped_masks_path):\n",
    "    os.makedirs(cropped_masks_path)\n",
    "# 设置裁剪后尺寸\n",
    "crop_width = 512\n",
    "crop_height = 512\n",
    "\n",
    "# 遍历原始图像文件夹\n",
    "for image_name in os.listdir(original_images_path):\n",
    "    if image_name.endswith('.jpg'):\n",
    "        original_image_path = os.path.join(original_images_path, image_name)\n",
    "        mask_image_name = image_name.replace('.jpg', '.png')\n",
    "        mask_image_path = os.path.join(mask_images_path, mask_image_name)\n",
    "\n",
    "        original_image = cv2.imread(original_image_path)\n",
    "        mask_image = cv2.imread(mask_image_path)\n",
    "\n",
    "        # 转换mask图像为灰度以找到目标物体的位置\n",
    "        mask_gray = cv2.cvtColor(mask_image, cv2.COLOR_BGR2GRAY)\n",
    "        y_indices, x_indices = np.where(mask_gray > 0)\n",
    "        x_min, x_max = x_indices.min(), x_indices.max()\n",
    "        y_min, y_max = y_indices.min(), y_indices.max()\n",
    "\n",
    "        max_height, max_width = original_image.shape[:2]\n",
    "        crop_x_min, crop_x_max, crop_y_min, crop_y_max = get_centered_crop_box(x_min, x_max, y_min, y_max, crop_width, crop_height, max_width, max_height)\n",
    "\n",
    "        cropped_image = original_image[crop_y_min:crop_y_max, crop_x_min:crop_x_max]\n",
    "        cropped_mask = mask_image[crop_y_min:crop_y_max, crop_x_min:crop_x_max]\n",
    "        cropped_image_path = os.path.join(cropped_images_path, image_name)\n",
    "        cropped_mask_path = os.path.join(cropped_masks_path, mask_image_name)\n",
    "        cv2.imwrite(cropped_image_path, cropped_image)\n",
    "        cv2.imwrite(cropped_mask_path, cropped_mask)"
   ]
  },
  {
   "cell_type": "markdown",
   "metadata": {},
   "source": [
    "## 2 分割图像"
   ]
  },
  {
   "cell_type": "code",
   "execution_count": 1,
   "metadata": {},
   "outputs": [],
   "source": [
    "import cv2\n",
    "import os\n",
    "import matplotlib.pyplot as plt"
   ]
  },
  {
   "cell_type": "code",
   "execution_count": 2,
   "metadata": {},
   "outputs": [],
   "source": [
    "# 设置图像所在的文件夹目录\n",
    "PATH_image = r'cropped_image'\n",
    "PATH_mask = r'cropped_mask'\n",
    "PATH = r'E:\\workspace\\Anaconda\\Robot\\InstanceSegmentation\\dataset'"
   ]
  },
  {
   "cell_type": "code",
   "execution_count": 18,
   "metadata": {},
   "outputs": [],
   "source": [
    "def extract_images_from_folder(PATH, folder, draw=False):\n",
    "    \"\"\"对图像进行批量分批处理（对文件夹中的所有图像进行分片）\"\"\"\n",
    "    # 图像导入\n",
    "    folder = os.path.join(PATH, folder)\n",
    "    for filename in os.listdir(folder):\n",
    "        img = cv2.imread(os.path.join(folder, filename))\n",
    "\n",
    "        if img is not None:\n",
    "            # 如果导入成功，则创建该图片专属的文件夹\n",
    "            subfolder = os.path.join(PATH, folder+'_split', filename.split('.')[0])\n",
    "            if os.path.exists(subfolder) == False:\n",
    "                os.mkdir(subfolder)\n",
    "        \n",
    "            # 图像分割\n",
    "            img_copy = cv2.cvtColor(img, cv2.COLOR_BGR2RGB).copy()\n",
    "            img_h = img_copy.shape[0]\n",
    "            img_w = img_copy.shape[1]\n",
    "\n",
    "            patch_h = 200\n",
    "            patch_w = 200\n",
    "\n",
    "            for y in range(0, img_h, patch_h):\n",
    "                for x in range(0, img_w, patch_w):\n",
    "                    if patch_h > img_h or patch_w > img_w:\n",
    "                        print('方片尺寸大于原始图像尺寸')\n",
    "                        break\n",
    "                    if img_h >= y + patch_h or img_w >= x + patch_w:\n",
    "                        patch = img_copy[y:y+patch_h, x:x+patch_w]\n",
    "                        if draw:\n",
    "                            # 保存之后，在原始图像上对当前索引区域绘制白色边框\n",
    "                            # 注意，这一操作会在正在被分片的图像上进行\n",
    "                            cv2.rectangle(img_copy, (x, y), (x+patch_w, y+patch_h), (255, 255, 255), 2)\n",
    "                        else:\n",
    "                            cv2.imwrite(os.path.join(subfolder, f'x{x}-{x+patch_w}_y{y}-{y+patch_h}.jpg'), patch)\n",
    "            if draw:\n",
    "                # 循环完毕后，绘制分割后的图像\n",
    "                plt.figure(dpi=400)\n",
    "                plt.imshow(img_copy)\n",
    "                plt.axis('off');"
   ]
  },
  {
   "cell_type": "code",
   "execution_count": 19,
   "metadata": {},
   "outputs": [],
   "source": [
    "extract_images_from_folder(PATH, PATH_image)"
   ]
  },
  {
   "cell_type": "code",
   "execution_count": 20,
   "metadata": {},
   "outputs": [],
   "source": [
    "extract_images_from_folder(PATH, PATH_mask)"
   ]
  }
 ],
 "metadata": {
  "kernelspec": {
   "display_name": "Robo",
   "language": "python",
   "name": "python3"
  },
  "language_info": {
   "codemirror_mode": {
    "name": "ipython",
    "version": 3
   },
   "file_extension": ".py",
   "mimetype": "text/x-python",
   "name": "python",
   "nbconvert_exporter": "python",
   "pygments_lexer": "ipython3",
   "version": "3.8.19"
  }
 },
 "nbformat": 4,
 "nbformat_minor": 2
}
