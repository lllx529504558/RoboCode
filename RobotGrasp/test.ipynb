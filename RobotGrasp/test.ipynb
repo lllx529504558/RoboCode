{
 "cells": [
  {
   "cell_type": "markdown",
   "metadata": {},
   "source": [
    "# 1 SDK测试"
   ]
  },
  {
   "cell_type": "code",
   "execution_count": 1,
   "metadata": {},
   "outputs": [],
   "source": [
    "from utils.HansRobot.CPS import CPSClient"
   ]
  },
  {
   "cell_type": "code",
   "execution_count": 3,
   "metadata": {},
   "outputs": [
    {
     "name": "stdout",
     "output_type": "stream",
     "text": [
      "http://192.168.4.40:20000\n"
     ]
    },
    {
     "data": {
      "text/plain": [
       "0"
      ]
     },
     "execution_count": 3,
     "metadata": {},
     "output_type": "execute_result"
    }
   ],
   "source": [
    "tcp_host_ip = '192.168.4.40'\n",
    "tcp_port = 10003\n",
    "cps = CPSClient()\n",
    "cps.HRIF_Connect(0, tcp_host_ip, tcp_port)"
   ]
  },
  {
   "cell_type": "code",
   "execution_count": 137,
   "metadata": {},
   "outputs": [
    {
     "data": {
      "text/plain": [
       "0"
      ]
     },
     "execution_count": 137,
     "metadata": {},
     "output_type": "execute_result"
    }
   ],
   "source": [
    "cps.HRIF_DisConnect(0)"
   ]
  },
  {
   "cell_type": "code",
   "execution_count": 46,
   "metadata": {},
   "outputs": [
    {
     "data": {
      "text/plain": [
       "0"
      ]
     },
     "execution_count": 46,
     "metadata": {},
     "output_type": "execute_result"
    }
   ],
   "source": [
    "cps.HRIF_GrpEnable(0, 0)"
   ]
  },
  {
   "cell_type": "code",
   "execution_count": 151,
   "metadata": {},
   "outputs": [
    {
     "data": {
      "text/plain": [
       "0"
      ]
     },
     "execution_count": 151,
     "metadata": {},
     "output_type": "execute_result"
    }
   ],
   "source": [
    "cps.HRIF_GrpDisable(0,0)"
   ]
  },
  {
   "cell_type": "code",
   "execution_count": 141,
   "metadata": {},
   "outputs": [
    {
     "data": {
      "text/plain": [
       "39500"
      ]
     },
     "execution_count": 141,
     "metadata": {},
     "output_type": "execute_result"
    }
   ],
   "source": [
    "cps.HRIF_GrpReset(0,0)"
   ]
  },
  {
   "cell_type": "code",
   "execution_count": 65,
   "metadata": {},
   "outputs": [
    {
     "data": {
      "text/plain": [
       "0"
      ]
     },
     "execution_count": 65,
     "metadata": {},
     "output_type": "execute_result"
    }
   ],
   "source": [
    "dOverride = 0.1\n",
    "cps.HRIF_SetOverride(0,0, dOverride)"
   ]
  },
  {
   "cell_type": "code",
   "execution_count": 161,
   "metadata": {},
   "outputs": [
    {
     "name": "stdout",
     "output_type": "stream",
     "text": [
      "MoveRelL,0,3,1,10,1,;\n"
     ]
    }
   ],
   "source": [
    "cps.HRIF_MoveRelL(0, 0, 3, 1, 10, 1)\n",
    "# 判断是否运动完成，运动完成后才能下发一个指令\n",
    "while True:\n",
    "    result = []\n",
    "    cps.HRIF_IsMotionDone(0, 0, result)\n",
    "    if result[0]:\n",
    "        break"
   ]
  },
  {
   "cell_type": "code",
   "execution_count": 25,
   "metadata": {},
   "outputs": [
    {
     "data": {
      "text/plain": [
       "0"
      ]
     },
     "execution_count": 25,
     "metadata": {},
     "output_type": "execute_result"
    }
   ],
   "source": [
    "cps.HRIF_GrpReset(0,0)"
   ]
  },
  {
   "cell_type": "code",
   "execution_count": 58,
   "metadata": {},
   "outputs": [
    {
     "data": {
      "text/plain": [
       "0"
      ]
     },
     "execution_count": 58,
     "metadata": {},
     "output_type": "execute_result"
    }
   ],
   "source": [
    "cps.HRIF_GrpStop(0, 0)"
   ]
  },
  {
   "cell_type": "code",
   "execution_count": 68,
   "metadata": {},
   "outputs": [
    {
     "data": {
      "text/plain": [
       "0"
      ]
     },
     "execution_count": 68,
     "metadata": {},
     "output_type": "execute_result"
    }
   ],
   "source": [
    "import numpy as np\n",
    "from scipy.spatial.transform import Rotation as R"
   ]
  },
  {
   "cell_type": "code",
   "execution_count": 50,
   "metadata": {},
   "outputs": [
    {
     "data": {
      "text/plain": [
       "0"
      ]
     },
     "execution_count": 50,
     "metadata": {},
     "output_type": "execute_result"
    }
   ],
   "source": [
    "cps.HRIF_GrpOpenFreeDriver(0,0)"
   ]
  },
  {
   "cell_type": "code",
   "execution_count": 46,
   "metadata": {},
   "outputs": [
    {
     "data": {
      "text/plain": [
       "['1.666',\n",
       " '13.922',\n",
       " '97.327',\n",
       " '2.368',\n",
       " '92.273',\n",
       " '-6.453',\n",
       " '337.131',\n",
       " '16.207',\n",
       " '482.644',\n",
       " '178.142',\n",
       " '4.562',\n",
       " '-171.772',\n",
       " '0.000',\n",
       " '0.000',\n",
       " '0.000',\n",
       " '0.000',\n",
       " '0.000',\n",
       " '0.000',\n",
       " '0.000',\n",
       " '0.000',\n",
       " '0.000',\n",
       " '0.000',\n",
       " '0.000',\n",
       " '0.000']"
      ]
     },
     "execution_count": 46,
     "metadata": {},
     "output_type": "execute_result"
    }
   ],
   "source": [
    "# 定义返回值空列表\n",
    "result = []\n",
    "# 读取当前实际位置信息\n",
    "cps.HRIF_ReadActPos(0,0, result)\n",
    "result"
   ]
  },
  {
   "cell_type": "code",
   "execution_count": 47,
   "metadata": {},
   "outputs": [
    {
     "data": {
      "text/plain": [
       "['1.666', '13.922', '97.327', '2.368', '92.273', '-6.453']"
      ]
     },
     "execution_count": 47,
     "metadata": {},
     "output_type": "execute_result"
    }
   ],
   "source": [
    "# 定义返回值空列表\n",
    "result = [ ]\n",
    "# 读取 TCP 实际位置\n",
    "nRet = cps.HRIF_ReadActTcpPos(0,0,result)\n",
    "# 读取 TCP 实际位置变量\n",
    "result"
   ]
  },
  {
   "cell_type": "code",
   "execution_count": 179,
   "metadata": {},
   "outputs": [
    {
     "data": {
      "text/plain": [
       "['2000.000', '2500.000', '10000000.000']"
      ]
     },
     "execution_count": 179,
     "metadata": {},
     "output_type": "execute_result"
    }
   ],
   "source": [
    "# 定义返回值空列表\n",
    "result = [ ]\n",
    "# 读取最大直线速度\n",
    "cps.HRIF_ReadLinearMaxSpeed(0, 0, result)\n",
    "result"
   ]
  },
  {
   "cell_type": "code",
   "execution_count": 180,
   "metadata": {},
   "outputs": [
    {
     "data": {
      "text/plain": [
       "['180.000', '180.000', '180.000', '180.000', '200.000', '200.000']"
      ]
     },
     "execution_count": 180,
     "metadata": {},
     "output_type": "execute_result"
    }
   ],
   "source": [
    "# 定义返回值空列表\n",
    "result = [ ]\n",
    "# 读取最大关节速度\n",
    "cps.HRIF_ReadJointMaxVel(0,0, result)\n",
    "result"
   ]
  },
  {
   "cell_type": "code",
   "execution_count": 75,
   "metadata": {},
   "outputs": [],
   "source": [
    "# 机器人运动状态检测\n",
    "def IsMotionDone():\n",
    "    # 机器人运动状态检测\n",
    "    result = []\n",
    "    cps.HRIF_IsMotionDone(0, 0, result)\n",
    "    if result[0]:\n",
    "        print('机器人运动完成')\n",
    "        return True\n",
    "    else:\n",
    "        print('机器人运动中...')\n",
    "        return False"
   ]
  },
  {
   "cell_type": "code",
   "execution_count": 11,
   "metadata": {},
   "outputs": [
    {
     "data": {
      "text/plain": [
       "0"
      ]
     },
     "execution_count": 11,
     "metadata": {},
     "output_type": "execute_result"
    }
   ],
   "source": [
    "cps.HRIF_MoveL(boxID=0, rbtID=0, points=[350, 1, 350, -180, 5, -180], RawACSpoints=[0, 0, 90, 0, 90, 0], tcp=\"TCP\", ucs=\"Base\", speed=100, Acc=50, radius=50, isSeek=0, bit=0, state=0, cmdID=\"0\")"
   ]
  },
  {
   "cell_type": "code",
   "execution_count": 54,
   "metadata": {},
   "outputs": [
    {
     "data": {
      "text/plain": [
       "0"
      ]
     },
     "execution_count": 54,
     "metadata": {},
     "output_type": "execute_result"
    }
   ],
   "source": [
    "# 停止运动\n",
    "cps.HRIF_GrpStop(0,0)"
   ]
  },
  {
   "cell_type": "code",
   "execution_count": 58,
   "metadata": {},
   "outputs": [
    {
     "data": {
      "text/plain": [
       "0"
      ]
     },
     "execution_count": 58,
     "metadata": {},
     "output_type": "execute_result"
    }
   ],
   "source": [
    "cps.HRIF_MoveL(boxID=0, rbtID=0, points=[380, -300, 0, 180, 0, -160], RawACSpoints=[0, 0, 90, 0, 90, 0], tcp=\"TCP_1\", ucs=\"Base\", speed=3000, Acc=3000, radius=50, isSeek=0, bit=0, state=0, cmdID=\"0\")"
   ]
  },
  {
   "cell_type": "code",
   "execution_count": 27,
   "metadata": {},
   "outputs": [
    {
     "data": {
      "text/plain": [
       "0"
      ]
     },
     "execution_count": 27,
     "metadata": {},
     "output_type": "execute_result"
    }
   ],
   "source": [
    "cps.HRIF_MoveJ(boxID=0, rbtID=0, points=[500, 0, 445, -180, 0, -180], RawACSpoints=[0, 0, 0, 0, 0, 0], tcp=\"TCP\", ucs=\"Base\", speed=180, Acc=50, radius=50, isJoint=0, isSeek=0, bit=0, state=0, cmdID=\"0\")"
   ]
  },
  {
   "cell_type": "code",
   "execution_count": 57,
   "metadata": {},
   "outputs": [
    {
     "data": {
      "text/plain": [
       "0"
      ]
     },
     "execution_count": 57,
     "metadata": {},
     "output_type": "execute_result"
    }
   ],
   "source": [
    "cps.HRIF_MoveJ(boxID=0, rbtID=0, points=[500, 0, 445, -180, 0, -180], RawACSpoints=[0, 0, 90, 0, 90, 0], tcp=\"TCP\", ucs=\"Base\", speed=180, Acc=360, radius=50, isJoint=1, isSeek=0, bit=0, state=0, cmdID=\"0\")"
   ]
  },
  {
   "cell_type": "code",
   "execution_count": 18,
   "metadata": {},
   "outputs": [
    {
     "data": {
      "text/plain": [
       "0"
      ]
     },
     "execution_count": 18,
     "metadata": {},
     "output_type": "execute_result"
    }
   ],
   "source": [
    "cps.HRIF_SetPayload(0, 0, 0.45, 0, 0, 120)"
   ]
  },
  {
   "cell_type": "code",
   "execution_count": 17,
   "metadata": {},
   "outputs": [],
   "source": [
    "def GetCurrentPosition():\n",
    "    \"\"\"\n",
    "    获取当前位置\n",
    "    : return Pos: Type: dict\n",
    "                    Key: \"JointPos\", \"RealPos\", \"TcpPos\", \"UcsPos\" \n",
    "                    Value: Type: list\n",
    "                    Valus: 关节坐标：[J1, J2, J3, J4, J5, J6]\n",
    "                            笛卡尔坐标：[X, Y, Z, RX, RY, RZ]\n",
    "                            TCP坐标：[X, Y, Z, RX, RY, RZ]\n",
    "                            用户坐标：[X, Y, Z, RX, RY, RZ]\n",
    "    \"\"\"\n",
    "    result = []\n",
    "    cps.HRIF_ReadActPos(0, 0, result)\n",
    "    JointPos = [result[0], result[1], result[2], result[3], result[4], result[5]]\n",
    "    RealPos = [result[6], result[7], result[8], result[9], result[10], result[11]]\n",
    "    TcpPos = [result[12], result[13], result[14], result[15], result[16], result[17]]\n",
    "    UcsPos = [result[18], result[19], result[20], result[21], result[22], result[23]]\n",
    "    Pos = {\"JointPos\": JointPos, \"RealPos\": RealPos, \"TcpPos\": TcpPos, \"UcsPos\": UcsPos}\n",
    "    return Pos"
   ]
  },
  {
   "cell_type": "code",
   "execution_count": 16,
   "metadata": {},
   "outputs": [
    {
     "data": {
      "text/plain": [
       "{'JointPos': ['-37.717', '-9.464', '73.791', '-0.070', '96.835', '-57.725'],\n",
       " 'RealPos': ['379.055',\n",
       "  '-293.385',\n",
       "  '489.163',\n",
       "  '179.961',\n",
       "  '-0.106',\n",
       "  '-160.001'],\n",
       " 'TcpPos': ['0.000', '0.000', '0.000', '0.000', '0.000', '0.000'],\n",
       " 'UcsPos': ['0.000', '0.000', '0.000', '0.000', '0.000', '0.000']}"
      ]
     },
     "execution_count": 16,
     "metadata": {},
     "output_type": "execute_result"
    }
   ],
   "source": [
    "GetCurrentPosition()"
   ]
  },
  {
   "cell_type": "code",
   "execution_count": 22,
   "metadata": {},
   "outputs": [
    {
     "data": {
      "text/plain": [
       "{'JointPos': ['-1.211',\n",
       "  '-21.224',\n",
       "  '114.204',\n",
       "  '180.000',\n",
       "  '-44.572',\n",
       "  '-201.210'],\n",
       " 'RealPos': ['432.225', '-9.134', '0.030', '180.000', '-0.000', '-160.001'],\n",
       " 'TcpPos': ['0.000', '0.000', '120.000', '0.000', '0.000', '0.000'],\n",
       " 'UcsPos': ['0.000', '0.000', '0.000', '0.000', '0.000', '0.000']}"
      ]
     },
     "execution_count": 22,
     "metadata": {},
     "output_type": "execute_result"
    }
   ],
   "source": [
    "GetCurrentPosition()"
   ]
  },
  {
   "cell_type": "code",
   "execution_count": 168,
   "metadata": {},
   "outputs": [
    {
     "data": {
      "text/plain": [
       "20018"
      ]
     },
     "execution_count": 168,
     "metadata": {},
     "output_type": "execute_result"
    }
   ],
   "source": [
    "cps.HRIF_MoveRelJ(0, 0, 4, 1, 10)"
   ]
  },
  {
   "cell_type": "code",
   "execution_count": 167,
   "metadata": {},
   "outputs": [
    {
     "data": {
      "text/plain": [
       "0"
      ]
     },
     "execution_count": 167,
     "metadata": {},
     "output_type": "execute_result"
    }
   ],
   "source": [
    "cps.HRIF_MoveRelJ(0, 0, 4, 0, 10)"
   ]
  },
  {
   "cell_type": "code",
   "execution_count": 156,
   "metadata": {},
   "outputs": [
    {
     "data": {
      "text/plain": [
       "0"
      ]
     },
     "execution_count": 156,
     "metadata": {},
     "output_type": "execute_result"
    }
   ],
   "source": [
    "cps.HRIF_MoveJ(boxID=0, rbtID=0, points=[0, 0, 0, 0, 0, 0], RawACSpoints=[0, 0, 90, 0, 90, 0], tcp=\"TCP\", ucs=\"Base\", speed=180, Acc=50, radius=50, isJoint=1, isSeek=0, bit=0, state=0, cmdID=\"0\")"
   ]
  },
  {
   "cell_type": "code",
   "execution_count": 37,
   "metadata": {},
   "outputs": [
    {
     "data": {
      "text/plain": [
       "['0']"
      ]
     },
     "execution_count": 37,
     "metadata": {},
     "output_type": "execute_result"
    }
   ],
   "source": [
    "# 定义返回值空列表\n",
    "result = [ ]\n",
    "# 定义需要读取的位\n",
    "nBit = 0\n",
    "# 读取末端 nBit 位 DO 状态\n",
    "nRet = cps.HRIF_ReadEndDO(0,0, nBit, result)\n",
    "result"
   ]
  },
  {
   "cell_type": "code",
   "execution_count": 36,
   "metadata": {},
   "outputs": [],
   "source": [
    "# 定义设置值\n",
    "nVal = 0\n",
    "# 定义需要设置的位\n",
    "nBit = 0\n",
    "# 设置末端 nBit 位 DO 状态\n",
    "nRet = cps.HRIF_SetEndDO(0, 0, nBit, nVal)"
   ]
  },
  {
   "cell_type": "code",
   "execution_count": 152,
   "metadata": {},
   "outputs": [
    {
     "data": {
      "text/plain": [
       "0"
      ]
     },
     "execution_count": 152,
     "metadata": {},
     "output_type": "execute_result"
    }
   ],
   "source": [
    "# 停止运动\n",
    "cps.HRIF_GrpStop(0,0)"
   ]
  },
  {
   "cell_type": "code",
   "execution_count": 154,
   "metadata": {},
   "outputs": [
    {
     "data": {
      "text/plain": [
       "0"
      ]
     },
     "execution_count": 154,
     "metadata": {},
     "output_type": "execute_result"
    }
   ],
   "source": [
    "# 暂停运动\n",
    "cps.HRIF_GrpInterrupt(0,0)"
   ]
  },
  {
   "cell_type": "code",
   "execution_count": 155,
   "metadata": {},
   "outputs": [
    {
     "data": {
      "text/plain": [
       "0"
      ]
     },
     "execution_count": 155,
     "metadata": {},
     "output_type": "execute_result"
    }
   ],
   "source": [
    "# 继续运动\n",
    "cps.HRIF_GrpContinue(0,0)"
   ]
  },
  {
   "cell_type": "code",
   "execution_count": 176,
   "metadata": {},
   "outputs": [
    {
     "data": {
      "text/plain": [
       "'5KG'"
      ]
     },
     "execution_count": 176,
     "metadata": {},
     "output_type": "execute_result"
    }
   ],
   "source": [
    "result = []\n",
    "cps.HRIF_ReadRobotModel (0,0, result)\n",
    "result[0]"
   ]
  },
  {
   "cell_type": "markdown",
   "metadata": {},
   "source": [
    "# 2 Hans_Robot 函数"
   ]
  },
  {
   "cell_type": "code",
   "execution_count": 18,
   "metadata": {},
   "outputs": [],
   "source": [
    "from Hans_Robot import HansRobot"
   ]
  },
  {
   "cell_type": "code",
   "execution_count": 19,
   "metadata": {},
   "outputs": [
    {
     "name": "stdout",
     "output_type": "stream",
     "text": [
      "http://192.168.4.40:20000\n",
      "Connect to robot successfully! Robot load is 5KG.\n"
     ]
    }
   ],
   "source": [
    "Robot = HansRobot(Override=0.1, TcpName='TCP_1')\n",
    "Robot.Connect()"
   ]
  },
  {
   "cell_type": "code",
   "execution_count": 15,
   "metadata": {},
   "outputs": [
    {
     "name": "stdout",
     "output_type": "stream",
     "text": [
      "Set robot speed to 10.0% Max Speed.\n",
      "Move to [0, 0, 90, 0, 90, -20].\n",
      "Home robot successfully!\n"
     ]
    }
   ],
   "source": [
    "Robot.GoHome()"
   ]
  },
  {
   "cell_type": "code",
   "execution_count": 28,
   "metadata": {},
   "outputs": [],
   "source": [
    "Robot.OpenEndEffector()"
   ]
  },
  {
   "cell_type": "code",
   "execution_count": 10,
   "metadata": {},
   "outputs": [
    {
     "name": "stdout",
     "output_type": "stream",
     "text": [
      "Set robot speed to 10.0% Max Speed.\n",
      "Move to [0, 0, 90, 0, 90, -20].\n"
     ]
    }
   ],
   "source": [
    "Robot.MoveJ([0, 0, 90, 0, 90, -20], Override=0.1)"
   ]
  },
  {
   "cell_type": "code",
   "execution_count": 21,
   "metadata": {},
   "outputs": [
    {
     "name": "stdout",
     "output_type": "stream",
     "text": [
      "Set robot speed to 10.0% Max Speed.\n",
      "Move to [420, 0, 333, 180, 0, -160].\n"
     ]
    }
   ],
   "source": [
    "Robot.MoveL([420, 0, 333, 180, 0, -160], Override=0.1)"
   ]
  },
  {
   "cell_type": "code",
   "execution_count": 36,
   "metadata": {},
   "outputs": [
    {
     "name": "stdout",
     "output_type": "stream",
     "text": [
      "Set robot speed to 10.0% Max Speed.\n",
      "Move to [591.5005692673324, -279.8694800153828, 41.1788488013284, -180.0, 0.0, -158.21649413185034].\n"
     ]
    }
   ],
   "source": [
    "Robot.MoveL([591.5005692673324, -279.8694800153828, 41.1788488013284, -180.0, 0.0, -158.21649413185034], Override=0.1)"
   ]
  },
  {
   "cell_type": "code",
   "execution_count": 20,
   "metadata": {},
   "outputs": [
    {
     "name": "stdout",
     "output_type": "stream",
     "text": [
      "Stop robot successfully!\n"
     ]
    }
   ],
   "source": [
    "Robot.Stop()"
   ]
  },
  {
   "cell_type": "code",
   "execution_count": 4,
   "metadata": {},
   "outputs": [
    {
     "name": "stdout",
     "output_type": "stream",
     "text": [
      "Set robot speed to 10.0% Max Speed.\n",
      "Move Axis 0 2° Negative.\n"
     ]
    }
   ],
   "source": [
    "Robot.MoveRelJ(Axis=0, Direction=0, Distance=2)"
   ]
  },
  {
   "cell_type": "code",
   "execution_count": 8,
   "metadata": {},
   "outputs": [
    {
     "name": "stdout",
     "output_type": "stream",
     "text": [
      "Enable robot successfully!\n"
     ]
    }
   ],
   "source": [
    "# Robot.Reset()\n",
    "Robot.Enable()"
   ]
  },
  {
   "cell_type": "code",
   "execution_count": 10,
   "metadata": {},
   "outputs": [
    {
     "name": "stdout",
     "output_type": "stream",
     "text": [
      "Set robot speed to 10.0% Max Speed.\n",
      "Move to [400, 0, 300, 180, 0, -160].\n"
     ]
    }
   ],
   "source": [
    "Robot.MoveL([400, 0, 300, 180, 0, -160], Override=0.1)"
   ]
  },
  {
   "cell_type": "code",
   "execution_count": 17,
   "metadata": {},
   "outputs": [
    {
     "name": "stdout",
     "output_type": "stream",
     "text": [
      "Set robot speed to 20.0% Max Speed.\n",
      "Move to [400, 0, 500, 180, 0, -160].\n"
     ]
    }
   ],
   "source": [
    "Robot.MoveL([400, 0, 500, 180, 0, -160], Override=0.2)"
   ]
  },
  {
   "cell_type": "code",
   "execution_count": 8,
   "metadata": {},
   "outputs": [
    {
     "name": "stdout",
     "output_type": "stream",
     "text": [
      "Reset robot successfully!\n"
     ]
    }
   ],
   "source": [
    "Robot.Reset()"
   ]
  },
  {
   "cell_type": "code",
   "execution_count": 12,
   "metadata": {},
   "outputs": [
    {
     "name": "stdout",
     "output_type": "stream",
     "text": [
      "Enable robot successfully!\n"
     ]
    }
   ],
   "source": [
    "Robot.Enable()"
   ]
  },
  {
   "cell_type": "code",
   "execution_count": 14,
   "metadata": {},
   "outputs": [
    {
     "name": "stdout",
     "output_type": "stream",
     "text": [
      "Interrupt robot successfully!\n"
     ]
    }
   ],
   "source": [
    "Robot.Interrupt()"
   ]
  },
  {
   "cell_type": "code",
   "execution_count": 7,
   "metadata": {},
   "outputs": [
    {
     "name": "stdout",
     "output_type": "stream",
     "text": [
      "Continue robot successfully!\n"
     ]
    }
   ],
   "source": [
    "Robot.Continue()"
   ]
  },
  {
   "cell_type": "code",
   "execution_count": 3,
   "metadata": {},
   "outputs": [
    {
     "name": "stdout",
     "output_type": "stream",
     "text": [
      "600.0 500.0\n",
      "Move to [350, -200, 0, -180, 5, -160].\n"
     ]
    }
   ],
   "source": [
    "Robot.MoveL([350, -200, 0, -180, 5, -160], Override=0.2)"
   ]
  },
  {
   "cell_type": "code",
   "execution_count": 5,
   "metadata": {},
   "outputs": [
    {
     "name": "stdout",
     "output_type": "stream",
     "text": [
      "Move to [350, -200, 0, -180, 5, -160].\n",
      "The robot has reached the target position.\n"
     ]
    }
   ],
   "source": [
    "Robot.HP_Move([350, -200, 0, -180, 5, -160], Move_Type=\"L\", Override=0.2)"
   ]
  },
  {
   "cell_type": "code",
   "execution_count": null,
   "metadata": {},
   "outputs": [
    {
     "name": "stdout",
     "output_type": "stream",
     "text": [
      "Interrupt robot successfully!\n"
     ]
    }
   ],
   "source": [
    "Robot.Interrupt()"
   ]
  },
  {
   "cell_type": "code",
   "execution_count": 3,
   "metadata": {},
   "outputs": [],
   "source": [
    "import numpy as np"
   ]
  },
  {
   "cell_type": "code",
   "execution_count": 4,
   "metadata": {},
   "outputs": [
    {
     "data": {
      "text/plain": [
       "array([2, 4, 6])"
      ]
     },
     "execution_count": 4,
     "metadata": {},
     "output_type": "execute_result"
    }
   ],
   "source": [
    "a = np.array([1, 2, 3])\n",
    "b = [1, 2, 3]\n",
    "a + b"
   ]
  },
  {
   "cell_type": "code",
   "execution_count": 6,
   "metadata": {},
   "outputs": [
    {
     "data": {
      "text/plain": [
       "[600, 200, 500]"
      ]
     },
     "execution_count": 6,
     "metadata": {},
     "output_type": "execute_result"
    }
   ],
   "source": [
    "workspace_limits_input = [[600, 200, 500], [200, -200, 100], [0, 0, 0]]\n",
    "workspace_limits_input[0]\n",
    "workspace_limits_input[1]\n",
    "workspace_limits_input[2]"
   ]
  },
  {
   "cell_type": "markdown",
   "metadata": {},
   "source": [
    "# 3 OpenCV & 相机"
   ]
  },
  {
   "cell_type": "code",
   "execution_count": 2,
   "metadata": {},
   "outputs": [],
   "source": [
    "import cv2 as cv\n",
    "import numpy as np"
   ]
  },
  {
   "cell_type": "code",
   "execution_count": 3,
   "metadata": {},
   "outputs": [],
   "source": [
    "cap = cv.VideoCapture(0, cv.CAP_OBSENSOR)\n",
    "\n",
    "if cap is None or not cap.isOpened():\n",
    "    print(\"Warning: Unable to open the camera\")\n",
    "color = 0\n",
    "depth = 0\n",
    "depth8U = 0"
   ]
  },
  {
   "cell_type": "code",
   "execution_count": null,
   "metadata": {},
   "outputs": [],
   "source": [
    "while True:\n",
    "    if cap.grab() > 0:\n",
    "        retval1, color = cap.retrieve(color, cv.CAP_OBSENSOR_BGR_IMAGE)\n",
    "        cv.imshow(\"color\", color)\n",
    "    if cv.pollKey() > 0:\n",
    "        break\n",
    "cap.release()"
   ]
  },
  {
   "cell_type": "markdown",
   "metadata": {},
   "source": [
    "# 4 Gemini2 函数"
   ]
  },
  {
   "cell_type": "code",
   "execution_count": 1,
   "metadata": {},
   "outputs": [],
   "source": [
    "from hardware.Gemini_camera import OrbbecGeminiCamera"
   ]
  },
  {
   "cell_type": "code",
   "execution_count": 2,
   "metadata": {},
   "outputs": [],
   "source": [
    "camera = OrbbecGeminiCamera()\n",
    "camera.connect()"
   ]
  },
  {
   "cell_type": "code",
   "execution_count": 14,
   "metadata": {},
   "outputs": [],
   "source": [
    "camera_param = camera.pipeline.get_camera_param()\n",
    "camera.rgb_intrinsic = camera_param.rgb_intrinsic\n",
    "camera.depth_intrinsic = camera_param.depth_intrinsic\n",
    "camera.rgb_distortion = camera_param.rgb_distortion"
   ]
  },
  {
   "cell_type": "code",
   "execution_count": 3,
   "metadata": {},
   "outputs": [
    {
     "data": {
      "text/plain": [
       "<OBCameraIntrinsic fx=512.412537 fy=512.491028 cx=322.733582 cy=234.740265 width=640 height=480>"
      ]
     },
     "execution_count": 3,
     "metadata": {},
     "output_type": "execute_result"
    }
   ],
   "source": [
    "camera.rgb_intrinsic"
   ]
  },
  {
   "cell_type": "code",
   "execution_count": 4,
   "metadata": {},
   "outputs": [
    {
     "data": {
      "text/plain": [
       "<OBCameraIntrinsic fx=512.412537 fy=512.491028 cx=322.733582 cy=234.740265 width=640 height=480>"
      ]
     },
     "execution_count": 4,
     "metadata": {},
     "output_type": "execute_result"
    }
   ],
   "source": [
    "camera.depth_intrinsic"
   ]
  },
  {
   "cell_type": "code",
   "execution_count": 6,
   "metadata": {},
   "outputs": [
    {
     "data": {
      "text/plain": [
       "{'rgb': array([[[169, 171, 171],\n",
       "         [169, 171, 171],\n",
       "         [168, 170, 170],\n",
       "         ...,\n",
       "         [124, 129, 135],\n",
       "         [120, 125, 131],\n",
       "         [129, 134, 140]],\n",
       " \n",
       "        [[169, 171, 171],\n",
       "         [169, 171, 171],\n",
       "         [168, 170, 170],\n",
       "         ...,\n",
       "         [ 87,  92,  98],\n",
       "         [ 85,  90,  96],\n",
       "         [ 89,  94, 100]],\n",
       " \n",
       "        [[169, 171, 171],\n",
       "         [168, 170, 170],\n",
       "         [168, 170, 170],\n",
       "         ...,\n",
       "         [ 69,  66,  70],\n",
       "         [ 70,  67,  71],\n",
       "         [ 67,  64,  68]],\n",
       " \n",
       "        ...,\n",
       " \n",
       "        [[  5,   9,  11],\n",
       "         [  3,   7,   9],\n",
       "         [  2,   6,   8],\n",
       "         ...,\n",
       "         [119, 132, 163],\n",
       "         [118, 131, 162],\n",
       "         [117, 130, 161]],\n",
       " \n",
       "        [[ 12,   8,   8],\n",
       "         [ 10,   6,   6],\n",
       "         [  7,   5,   5],\n",
       "         ...,\n",
       "         [119, 133, 162],\n",
       "         [118, 132, 161],\n",
       "         [117, 131, 160]],\n",
       " \n",
       "        [[ 11,   7,   7],\n",
       "         [  8,   4,   4],\n",
       "         [  6,   4,   4],\n",
       "         ...,\n",
       "         [119, 133, 162],\n",
       "         [118, 132, 161],\n",
       "         [117, 131, 160]]], dtype=uint8),\n",
       " 'aligned_depth': array([[[3248.],\n",
       "         [3248.],\n",
       "         [3248.],\n",
       "         ...,\n",
       "         [2279.],\n",
       "         [2271.],\n",
       "         [2271.]],\n",
       " \n",
       "        [[3248.],\n",
       "         [3248.],\n",
       "         [3248.],\n",
       "         ...,\n",
       "         [2279.],\n",
       "         [2271.],\n",
       "         [2271.]],\n",
       " \n",
       "        [[3259.],\n",
       "         [3259.],\n",
       "         [3259.],\n",
       "         ...,\n",
       "         [2297.],\n",
       "         [2281.],\n",
       "         [2281.]],\n",
       " \n",
       "        ...,\n",
       " \n",
       "        [[ 268.],\n",
       "         [ 268.],\n",
       "         [ 268.],\n",
       "         ...,\n",
       "         [ 248.],\n",
       "         [ 249.],\n",
       "         [ 249.]],\n",
       " \n",
       "        [[ 268.],\n",
       "         [ 268.],\n",
       "         [ 268.],\n",
       "         ...,\n",
       "         [ 247.],\n",
       "         [ 247.],\n",
       "         [ 247.]],\n",
       " \n",
       "        [[ 268.],\n",
       "         [ 268.],\n",
       "         [ 268.],\n",
       "         ...,\n",
       "         [ 247.],\n",
       "         [ 247.],\n",
       "         [ 247.]]], dtype=float32)}"
      ]
     },
     "execution_count": 6,
     "metadata": {},
     "output_type": "execute_result"
    }
   ],
   "source": [
    "camera.get_image_bundle()"
   ]
  },
  {
   "cell_type": "markdown",
   "metadata": {},
   "source": [
    "# 5 测试函数功能"
   ]
  },
  {
   "cell_type": "code",
   "execution_count": 22,
   "metadata": {},
   "outputs": [],
   "source": [
    "import cv2 as cv\n",
    "import numpy as np"
   ]
  },
  {
   "cell_type": "code",
   "execution_count": 17,
   "metadata": {},
   "outputs": [],
   "source": [
    "# depth = cv.imread(r\"E:\\workspace\\Anaconda\\Robot\\GRCNN\\photo\\filtered_depth_20240326_212200.tiff\", cv.IMREAD_ANYDEPTH)\n",
    "depth = cv.imread(r\"E:\\workspace\\Anaconda\\github\\robotic-grasping\\Jacquard\\1a1ec1cfe633adcdebbf11b1629fc16a\\0_1a1ec1cfe633adcdebbf11b1629fc16a_stereo_depth.tiff\", cv.IMREAD_ANYDEPTH)\n",
    "rgb = cv.imread(r\"E:\\workspace\\Anaconda\\github\\robotic-grasping\\Jacquard\\1a1ec1cfe633adcdebbf11b1629fc16a\\0_1a1ec1cfe633adcdebbf11b1629fc16a_RGB.png\")"
   ]
  },
  {
   "cell_type": "code",
   "execution_count": 15,
   "metadata": {},
   "outputs": [
    {
     "data": {
      "text/plain": [
       "array([[ 1.5762006,  1.5762006,  1.5762006, ...,  1.5751858,  1.5751858,\n",
       "         1.5751858],\n",
       "       [ 1.5762006,  1.5762006,  1.5762006, ...,  1.5751858,  1.5751858,\n",
       "         1.5751858],\n",
       "       [ 1.5762006,  1.5751858,  1.5751858, ...,  1.5751858,  1.5751858,\n",
       "         1.5751858],\n",
       "       ...,\n",
       "       [-1.       ,  1.4297273,  1.4297273, ...,  1.4297273,  1.4297273,\n",
       "         1.4297273],\n",
       "       [-1.       ,  1.4297273,  1.4297273, ...,  1.4297273,  1.4297273,\n",
       "         1.4297273],\n",
       "       [-1.       ,  1.4297273,  1.4297273, ...,  1.4297273,  1.4297273,\n",
       "         1.4297273]], dtype=float32)"
      ]
     },
     "execution_count": 15,
     "metadata": {},
     "output_type": "execute_result"
    }
   ],
   "source": [
    "depth"
   ]
  },
  {
   "cell_type": "code",
   "execution_count": 18,
   "metadata": {},
   "outputs": [
    {
     "data": {
      "text/plain": [
       "array([[[177, 177, 177],\n",
       "        [176, 176, 176],\n",
       "        [177, 177, 177],\n",
       "        ...,\n",
       "        [190, 191, 191],\n",
       "        [191, 191, 191],\n",
       "        [192, 192, 192]],\n",
       "\n",
       "       [[178, 178, 178],\n",
       "        [178, 178, 178],\n",
       "        [178, 178, 178],\n",
       "        ...,\n",
       "        [193, 193, 193],\n",
       "        [193, 193, 193],\n",
       "        [193, 193, 193]],\n",
       "\n",
       "       [[178, 178, 178],\n",
       "        [178, 178, 178],\n",
       "        [178, 178, 178],\n",
       "        ...,\n",
       "        [194, 194, 194],\n",
       "        [194, 194, 194],\n",
       "        [194, 194, 194]],\n",
       "\n",
       "       ...,\n",
       "\n",
       "       [[171, 171, 171],\n",
       "        [168, 167, 167],\n",
       "        [167, 167, 167],\n",
       "        ...,\n",
       "        [183, 184, 184],\n",
       "        [183, 185, 185],\n",
       "        [184, 185, 185]],\n",
       "\n",
       "       [[172, 172, 172],\n",
       "        [170, 170, 170],\n",
       "        [171, 171, 171],\n",
       "        ...,\n",
       "        [183, 184, 184],\n",
       "        [183, 185, 185],\n",
       "        [184, 185, 185]],\n",
       "\n",
       "       [[169, 169, 169],\n",
       "        [168, 169, 169],\n",
       "        [169, 171, 171],\n",
       "        ...,\n",
       "        [183, 185, 185],\n",
       "        [183, 185, 185],\n",
       "        [184, 185, 185]]], dtype=uint8)"
      ]
     },
     "execution_count": 18,
     "metadata": {},
     "output_type": "execute_result"
    }
   ],
   "source": [
    "rgb"
   ]
  },
  {
   "cell_type": "code",
   "execution_count": 19,
   "metadata": {},
   "outputs": [],
   "source": [
    "def mouseclick_callback(event, x, y, flags, param):\n",
    "    global depth_str, depth\n",
    "    if event == cv.EVENT_LBUTTONDOWN: # 判断鼠标左键是否按下\n",
    "        click_point_pix = (x, y)\n",
    "        # 获取手动选择的像素点在相机坐标系下的坐标\n",
    "        click_z = depth[click_point_pix[1]][click_point_pix[0]] # 获取深度图像中的深度值\n",
    "        depth_str = f\"Select Pixel Depth is {click_z[0]} mm\" # 用于在图像上显示选择点深度值的字符串"
   ]
  },
  {
   "cell_type": "code",
   "execution_count": 20,
   "metadata": {},
   "outputs": [],
   "source": [
    "def normalize_depth(frame): # 归一化深度图像\n",
    "    # 使用全局最大值进行归一化\n",
    "    global_max = 1500\n",
    "    # 归一化深度图像\n",
    "    normalized_frame = np.clip(frame / global_max * 255, 0, 255)\n",
    "    return normalized_frame.astype(np.uint8)"
   ]
  },
  {
   "cell_type": "code",
   "execution_count": 24,
   "metadata": {},
   "outputs": [
    {
     "ename": "",
     "evalue": "",
     "output_type": "error",
     "traceback": [
      "\u001b[1;31m在当前单元格或上一个单元格中执行代码时 Kernel 崩溃。请查看单元格中的代码，以确定故障的可能原因。有关详细信息，请单击 <a href='https://aka.ms/vscodeJupyterKernelCrash'>此处</a>。有关更多详细信息，请查看 Jupyter <a href='command:jupyter.viewOutput'>log</a>。"
     ]
    }
   ],
   "source": [
    "depth_str = None\n",
    "depth_image = normalize_depth(depth) # 使用时间滤波器对深度图像进行滤波\n",
    "depth_image = cv.applyColorMap(depth_image, cv.COLORMAP_JET) # 将归一化后的深度图转换为伪彩色图像，以更好地观察深度变化\n",
    "# 图像显示\n",
    "cv.namedWindow('Depth') # 创建图像窗口\n",
    "cv.setMouseCallback('Depth', mouseclick_callback) # 设置鼠标回调函数，RGB & Depth为窗口名，mouseclick_callback为回调函数\n",
    "pixel_x, pixel_y = 10, 30 # 设置显示坐标的位置\n",
    "cv.putText(depth_image, depth_str, (pixel_x, pixel_y), cv.FONT_HERSHEY_SIMPLEX, 0.5, (255, 255, 255), 1) # 0.5为字体大小，(0, 255, 0)为颜色，1为字体粗细\n",
    "cv.imshow('RGB', rgb)\n",
    "cv.imshow('Depth', depth_image)"
   ]
  },
  {
   "cell_type": "code",
   "execution_count": 17,
   "metadata": {},
   "outputs": [
    {
     "name": "stdout",
     "output_type": "stream",
     "text": [
      "(1, 8)\n",
      "(2, 8)\n",
      "(4, 8)\n",
      "(6, 8)\n",
      "(8, 8)\n"
     ]
    }
   ],
   "source": [
    "centroids_list = [(1, 8), (2, 8), (3, 8), (4, 8), (5, 8)]\n",
    "for i in range(len(centroids_list)):\n",
    "    click_point_pix = (int(centroids_list[i][0]), int(centroids_list[i][1]))\n",
    "    print(click_point_pix)\n",
    "    centroids_list = [(1+i, 8), (2+i, 8), (3+i, 8), (4+i, 8), (5+i, 8)]"
   ]
  },
  {
   "cell_type": "code",
   "execution_count": null,
   "metadata": {},
   "outputs": [],
   "source": []
  }
 ],
 "metadata": {
  "kernelspec": {
   "display_name": "Robo",
   "language": "python",
   "name": "python3"
  },
  "language_info": {
   "codemirror_mode": {
    "name": "ipython",
    "version": 3
   },
   "file_extension": ".py",
   "mimetype": "text/x-python",
   "name": "python",
   "nbconvert_exporter": "python",
   "pygments_lexer": "ipython3",
   "version": "3.8.19"
  }
 },
 "nbformat": 4,
 "nbformat_minor": 2
}
